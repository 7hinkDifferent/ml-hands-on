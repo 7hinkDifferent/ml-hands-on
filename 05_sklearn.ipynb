{
 "cells": [
  {
   "cell_type": "markdown",
   "id": "21fe7c15",
   "metadata": {},
   "source": [
    "# Scikit-learn - 机器学习算法库\n",
    "\n",
    "Scikit-learn是Python中最流行的机器学习库，提供了丰富的机器学习算法。\n",
    "\n",
    "## 本教程内容\n",
    "- 使用支持向量机(SVM)进行MNIST手写数字分类\n",
    "- 数据预处理和特征工程\n",
    "- 模型训练、验证和测试\n",
    "- 性能评估和可视化"
   ]
  },
  {
   "cell_type": "code",
   "execution_count": null,
   "id": "cf6b3ba0",
   "metadata": {},
   "outputs": [],
   "source": [
    "# 导入必要的库\n",
    "import numpy as np\n",
    "import matplotlib.pyplot as plt\n",
    "from sklearn import datasets, svm, metrics\n",
    "from sklearn.model_selection import train_test_split\n",
    "from sklearn.preprocessing import StandardScaler\n",
    "from sklearn.metrics import classification_report, confusion_matrix\n",
    "import seaborn as sns\n",
    "\n",
    "print(\"开始加载MNIST数据集...\")\n",
    "\n",
    "# 加载MNIST数据集（sklearn内置的简化版本）\n",
    "digits = datasets.load_digits()\n",
    "X, y = digits.data, digits.target\n",
    "\n",
    "print(f\"数据集形状: {X.shape}\")\n",
    "print(f\"标签形状: {y.shape}\")\n",
    "print(f\"类别数量: {len(np.unique(y))}\")\n",
    "print(f\"特征数量: {X.shape[1]}\")\n",
    "\n",
    "# 显示一些示例图像\n",
    "fig, axes = plt.subplots(2, 5, figsize=(12, 6))\n",
    "for i, ax in enumerate(axes.flat):\n",
    "    ax.imshow(digits.images[i], cmap='gray')\n",
    "    ax.set_title(f'标签: {digits.target[i]}')\n",
    "    ax.axis('off')\n",
    "plt.tight_layout()\n",
    "plt.show()"
   ]
  }
 ],
 "metadata": {
  "language_info": {
   "name": "python"
  }
 },
 "nbformat": 4,
 "nbformat_minor": 5
}
