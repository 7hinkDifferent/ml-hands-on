{
 "cells": [
  {
   "cell_type": "markdown",
   "id": "71f7ffa3",
   "metadata": {},
   "source": [
    "# Pandas - 数据处理与分析\n",
    "\n",
    "Pandas是Python中最重要的数据分析库，提供了高效的数据结构和数据操作工具。\n",
    "\n",
    "## 主要特性\n",
    "- 📊 **DataFrame**: 类似Excel的二维数据结构\n",
    "- 🔄 **数据清洗**: 处理缺失值、重复值\n",
    "- 📈 **数据分析**: 分组、聚合、统计\n",
    "- 📁 **文件I/O**: 读写CSV、Excel、JSON等格式\n",
    "- 🕒 **时间序列**: 强大的时间数据处理"
   ]
  },
  {
   "cell_type": "code",
   "execution_count": null,
   "id": "cb3bfdef",
   "metadata": {},
   "outputs": [],
   "source": [
    "import pandas as pd\n",
    "import numpy as np\n",
    "import matplotlib.pyplot as plt\n",
    "\n",
    "print(f\"Pandas版本: {pd.__version__}\")\n",
    "\n",
    "# 创建DataFrame\n",
    "data = {\n",
    "    '姓名': ['张三', '李四', '王五', '赵六', '钱七'],\n",
    "    '年龄': [25, 30, 35, 28, 32],\n",
    "    '城市': ['北京', '上海', '广州', '深圳', '杭州'],\n",
    "    '薪资': [8000, 12000, 15000, 11000, 13000]\n",
    "}\n",
    "\n",
    "df = pd.DataFrame(data)\n",
    "print(\"创建的DataFrame:\")\n",
    "print(df)\n",
    "print(f\"\\n数据形状: {df.shape}\")\n",
    "print(f\"数据类型:\\n{df.dtypes}\")"
   ]
  }
 ],
 "metadata": {
  "language_info": {
   "name": "python"
  }
 },
 "nbformat": 4,
 "nbformat_minor": 5
}
