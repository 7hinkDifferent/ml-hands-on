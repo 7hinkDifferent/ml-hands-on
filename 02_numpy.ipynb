{
 "cells": [
  {
   "cell_type": "markdown",
   "id": "c22ef0bc",
   "metadata": {},
   "source": [
    "# NumPy - 数值计算基础\n",
    "\n",
    "NumPy (Numerical Python) 是Python科学计算的基础库，提供了高性能的多维数组对象和相关工具。\n",
    "\n",
    "## 为什么学习NumPy？\n",
    "\n",
    "- 🚀 **高性能**: C语言实现，比原生Python快10-100倍\n",
    "- 📊 **数组计算**: 提供强大的N维数组对象ndarray\n",
    "- 🔧 **广泛应用**: 几乎所有Python科学计算库的基础\n",
    "- 🧮 **数学函数**: 丰富的数学函数库\n",
    "- 🎯 **向量化操作**: 避免显式循环，代码简洁高效\n",
    "\n",
    "## 学习内容\n",
    "\n",
    "1. NumPy基础 - 数组创建和属性\n",
    "2. 数组索引和切片\n",
    "3. 数组运算和广播\n",
    "4. 数学和统计函数\n",
    "5. 数组变形和合并\n",
    "6. 实际应用示例"
   ]
  },
  {
   "cell_type": "code",
   "execution_count": null,
   "id": "6e509c36",
   "metadata": {},
   "outputs": [],
   "source": [
    "# 导入NumPy库\n",
    "import numpy as np\n",
    "import matplotlib.pyplot as plt\n",
    "\n",
    "# 检查NumPy版本\n",
    "print(f\"NumPy版本: {np.__version__}\")\n",
    "\n",
    "# 1. 数组创建\n",
    "print(\"=== 数组创建 ===\")\n",
    "\n",
    "# 从列表创建\n",
    "arr1 = np.array([1, 2, 3, 4, 5])\n",
    "arr2 = np.array([[1, 2, 3], [4, 5, 6]])\n",
    "\n",
    "print(f\"一维数组: {arr1}\")\n",
    "print(f\"二维数组:\\n{arr2}\")\n",
    "\n",
    "# 特殊数组创建\n",
    "zeros = np.zeros((3, 4))  # 全0数组\n",
    "ones = np.ones((2, 3))    # 全1数组\n",
    "eye = np.eye(3)           # 单位矩阵\n",
    "arange = np.arange(0, 10, 2)  # 等差数列\n",
    "linspace = np.linspace(0, 1, 5)  # 等间距数列\n",
    "\n",
    "print(f\"全0数组:\\n{zeros}\")\n",
    "print(f\"全1数组:\\n{ones}\")\n",
    "print(f\"单位矩阵:\\n{eye}\")\n",
    "print(f\"等差数列: {arange}\")\n",
    "print(f\"等间距: {linspace}\")\n",
    "\n",
    "# 随机数组\n",
    "np.random.seed(42)  # 设置随机种子\n",
    "random_arr = np.random.random((2, 3))  # 0-1随机数\n",
    "normal_arr = np.random.normal(0, 1, (2, 3))  # 正态分布\n",
    "\n",
    "print(f\"随机数组:\\n{random_arr}\")\n",
    "print(f\"正态分布:\\n{normal_arr}\")"
   ]
  }
 ],
 "metadata": {
  "language_info": {
   "name": "python"
  }
 },
 "nbformat": 4,
 "nbformat_minor": 5
}
