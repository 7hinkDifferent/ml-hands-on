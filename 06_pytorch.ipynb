{
 "cells": [
  {
   "cell_type": "markdown",
   "id": "a0bd5187",
   "metadata": {},
   "source": [
    "# PyTorch - 深度学习框架\n",
    "\n",
    "PyTorch是当前最流行的深度学习框架之一，以动态计算图和易用性著称。\n",
    "\n",
    "## 本教程完整内容\n",
    "1. PyTorch基础 - 张量操作\n",
    "2. 自定义神经网络模型\n",
    "3. 自定义数据集类\n",
    "4. 训练、验证、测试完整流程\n",
    "5. 模型保存和恢复（断点续训）\n",
    "6. TensorBoard可视化\n",
    "7. 其他日志记录工具"
   ]
  },
  {
   "cell_type": "code",
   "execution_count": null,
   "id": "c162833b",
   "metadata": {},
   "outputs": [],
   "source": [
    "import torch\n",
    "import torch.nn as nn\n",
    "import torch.optim as optim\n",
    "import torch.nn.functional as F\n",
    "from torch.utils.data import DataLoader, Dataset\n",
    "import torchvision\n",
    "import torchvision.transforms as transforms\n",
    "from torch.utils.tensorboard import SummaryWriter\n",
    "\n",
    "import numpy as np\n",
    "import matplotlib.pyplot as plt\n",
    "from tqdm import tqdm\n",
    "import os\n",
    "from datetime import datetime\n",
    "import logging\n",
    "\n",
    "print(f\"PyTorch版本: {torch.__version__}\")\n",
    "print(f\"Torchvision版本: {torchvision.__version__}\")\n",
    "print(f\"CUDA可用: {torch.cuda.is_available()}\")\n",
    "if torch.cuda.is_available():\n",
    "    print(f\"CUDA设备数量: {torch.cuda.device_count()}\")\n",
    "    print(f\"当前CUDA设备: {torch.cuda.get_device_name(0)}\")\n",
    "\n",
    "# 设置设备\n",
    "device = torch.device('cuda' if torch.cuda.is_available() else 'cpu')\n",
    "print(f\"使用设备: {device}\")"
   ]
  }
 ],
 "metadata": {
  "language_info": {
   "name": "python"
  }
 },
 "nbformat": 4,
 "nbformat_minor": 5
}
