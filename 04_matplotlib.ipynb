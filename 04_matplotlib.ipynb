{
 "cells": [
  {
   "cell_type": "markdown",
   "id": "349b6b2c",
   "metadata": {},
   "source": [
    "# Matplotlib - 数据可视化\n",
    "\n",
    "Matplotlib是Python中最流行的绘图库，提供了类似MATLAB的绘图接口。\n",
    "\n",
    "## 主要功能\n",
    "- 📈 **基础图表**: 折线图、散点图、柱状图、直方图\n",
    "- 🎨 **自定义**: 颜色、样式、标签、图例\n",
    "- 📊 **子图**: 多个图表组合\n",
    "- 💾 **保存**: 多种格式输出(PNG、PDF、SVG等)\n",
    "- 🔧 **交互**: 缩放、平移等交互功能"
   ]
  },
  {
   "cell_type": "code",
   "execution_count": null,
   "id": "8586d7d0",
   "metadata": {},
   "outputs": [],
   "source": [
    "import matplotlib.pyplot as plt\n",
    "import numpy as np\n",
    "import pandas as pd\n",
    "\n",
    "# 设置中文字体和图表样式\n",
    "plt.rcParams['font.sans-serif'] = ['SimHei', 'Arial Unicode MS']  # 支持中文\n",
    "plt.rcParams['axes.unicode_minus'] = False  # 解决负号显示问题\n",
    "plt.style.use('default')\n",
    "\n",
    "print(f\"Matplotlib版本: {plt.matplotlib.__version__}\")\n",
    "\n",
    "# 基础折线图\n",
    "x = np.linspace(0, 10, 100)\n",
    "y1 = np.sin(x)\n",
    "y2 = np.cos(x)\n",
    "\n",
    "plt.figure(figsize=(10, 6))\n",
    "plt.plot(x, y1, label='sin(x)', linewidth=2)\n",
    "plt.plot(x, y2, label='cos(x)', linewidth=2, linestyle='--')\n",
    "plt.xlabel('x值')\n",
    "plt.ylabel('y值')\n",
    "plt.title('三角函数图像')\n",
    "plt.legend()\n",
    "plt.grid(True, alpha=0.3)\n",
    "plt.show()"
   ]
  }
 ],
 "metadata": {
  "language_info": {
   "name": "python"
  }
 },
 "nbformat": 4,
 "nbformat_minor": 5
}
